{
 "cells": [
  {
   "cell_type": "markdown",
   "id": "e0f3b6ca-5f47-467d-9861-2d76deac2aef",
   "metadata": {},
   "source": [
    "# This notebook is meant to be a demo of what can be done with intake on ref-marc datas"
   ]
  },
  {
   "cell_type": "code",
   "execution_count": null,
   "id": "7e46667a-1988-4c93-8f1b-503c4f965ba7",
   "metadata": {},
   "outputs": [],
   "source": [
    "import intake\n",
    "import dask_hpcconfig\n",
    "from distributed import Client\n",
    "import xarray as xr\n",
    "import hvplot.xarray\n",
    "import geoviews.feature as gf\n",
    "import os"
   ]
  },
  {
   "cell_type": "markdown",
   "id": "b7a120fd-8494-4867-b1ca-2a7493f0557a",
   "metadata": {},
   "source": [
    "Detail of the imports:\n",
    "-----------------------------------------------------------------------------------------------  \n",
    "    Intake    \n",
    ">- Handle the catalog contained in the yaml files.\n",
    "\n",
    "    dask_hpcconfig    \n",
    ">- Parrallelize your tasks on an hpc like datatrmor.\n",
    "\n",
    "    Distributed import Client    \n",
    ">- Client is creating the dask client\n",
    "\n",
    "    Xarray    \n",
    ">- Xarray makes operation on datasets and creates labbeled multidimensional arrays\n",
    "\n",
    "    hvplot.xarray\n",
    ">- Plotting \n",
    "\n",
    "    geoviews.features\n",
    ">- Plotting that enables some features on maps \n",
    "\n",
    "    os\n",
    ">- Can handle operating system dependant functionnality "
   ]
  },
  {
   "cell_type": "code",
   "execution_count": null,
   "id": "462e8fd5-767f-4399-9560-4168bf12947f",
   "metadata": {},
   "outputs": [],
   "source": [
    "cluster = dask_hpcconfig.cluster(\"datarmor-local\")\n",
    "cluster.scale(14)\n",
    "client = Client(cluster)\n",
    "client"
   ]
  },
  {
   "cell_type": "markdown",
   "id": "52430898-aaee-489a-8974-1cd91cd1673e",
   "metadata": {},
   "source": [
    "To vizaulise the dask-lab extension you need to go the the dask-lab tab and fill it wih :\n",
    ">- /user/{ JUPYTERHUB-USERNAME }/proxy/{ PORT-NUMBER }"
   ]
  },
  {
   "cell_type": "code",
   "execution_count": null,
   "id": "a0ccc244-1a4d-4d68-b449-3b17e2e5ab7a",
   "metadata": {},
   "outputs": [],
   "source": [
    "def list_param(cat, param):\n",
    "    return cat.metadata[\"parameters\"][param][\"allowed\"]\n",
    "\n",
    "def allowed_param(cat):\n",
    "    return cat.metadata[\"parameters\"]\n",
    "\n",
    "def allowed_years(data):\n",
    "    path = \"/home/datawork-lops-iaocea/catalog/kerchunk/ref-marc/\" + data\n",
    "    files = [f for f in os.listdir(path) if os.path.isfile(os.path.join(path, f))]\n",
    "    files.sort()\n",
    "    return files\n",
    "\n",
    "def year_concat(cat, source, region):\n",
    "    concat = [cat[source](region=region, filename=i).to_dask() \n",
    "              for i in allowed_years(region)]\n",
    "\n",
    "    return xr.concat(\n",
    "        concat, \n",
    "        dim=\"time\", \n",
    "        coords=\"minimal\", \n",
    "        data_vars=\"minimal\", \n",
    "        compat=\"override\"\n",
    "    )"
   ]
  },
  {
   "cell_type": "markdown",
   "id": "a6567709-570f-4162-a0eb-a2608d5f2535",
   "metadata": {},
   "source": [
    "Detail of the functions:\n",
    "-----------------------------------------------------------------------------------------------  \n",
    "    list_param(cat, param)    \n",
    ">- Takes 2 arguments: cat = An opened catalog, param = The name of a parameter.\n",
    ">- Returns a ptyhon list containing all the parameters.\n",
    "\n",
    "    allowed_param(cat)    \n",
    ">- Takes 1 argument: cat = An opened catalog\n",
    ">- Returns a python dict containing the allowed values of each parameters and their description\n",
    "\n",
    "    Allowed_years(data)    \n",
    ">- Takes 1 argument: data = A region of data.\n",
    ">- Returns a pythton list containing all the files stored in the directory. The combined jsons are stored in a directory named after the region (Same name than in the ref-marc directory)  \n",
    "/!\\ In this notebook, it will only work with ref-marc data because the json files are located at /home/datawork-lops-iaocea/catalog/kerchunk/ref-marc/. To use it to another directory, update the variable \"path\" in the function\n",
    "\n",
    "    year_concat(cat, source, region)    \n",
    ">- Takes 3 arguments: cat = An opened catalog, source = the source from this catalog, region = the region where the data comes from\n",
    ">- Returns: A dataset concatenated over the time dimension\n"
   ]
  },
  {
   "cell_type": "code",
   "execution_count": null,
   "id": "37fbd33e-e9fe-4987-be1c-7ac265a54068",
   "metadata": {},
   "outputs": [],
   "source": [
    "cat = intake.open_catalog(\"/home/datawork-lops-iaocea/catalog/intake/marc.yaml\")"
   ]
  },
  {
   "cell_type": "markdown",
   "id": "1a328a1d-b57e-48f3-91ca-7358c999efa2",
   "metadata": {},
   "source": [
    "#### To open the catalog you can use the cell above, you just need to give the path to an intake catalog."
   ]
  },
  {
   "cell_type": "code",
   "execution_count": null,
   "id": "1d455168-cd2a-4a0b-84c2-2a79e7312d24",
   "metadata": {},
   "outputs": [],
   "source": [
    "regions = list_param(\n",
    "    cat, \"region\"\n",
    ")"
   ]
  },
  {
   "cell_type": "markdown",
   "id": "874b12a9-0bbb-4fc8-96ae-cc236afb7933",
   "metadata": {},
   "source": [
    "### This tab is here to test the file and see how long it takes to be concatenated, if everything works as it should and measure the performance\n",
    "\n",
    "Tested on datarmor with the spark notebook\n",
    "\n",
    "\n",
    "\n",
    "\n",
    "\n",
    "\n",
    "\n",
    "|    REGION                               |  OPEN DATASET  |      CONCAT     |   COMPUTE   |     PLOT      |Concat time (s) |Nbr of Years |\n",
    "|    :------------------------------------|:--------------:|:---------------:|:-----------:|:-------------:|:--------------:|:-----------:|\n",
    "|   ANTILLES-UG                           |Works           |Missing variable |             |               |                |             |\n",
    "|   ATNE-10M                              |Works           |Missing variable |             |               |                |             |\n",
    "|   CALEDONIE-3MIN                        |Works           |Missing variable |             |               |                |             |\n",
    "|   GLOBAL-30MIN                          |Works           |Missing variable |             |               |                |             |\n",
    "|   MARC_F1-MARS3D-ADOUR                  |Works           |Works            |Works        |Works          |23.6            |9            |\n",
    "|   MARC_F1-MARS3D-ARMOR                  |Works           |Works            |Works        |Works          |23              |9            |\n",
    "|   MARC_F1-MARS3D-FINIS                  |Works           |Works            |Works        |Works          |20.9            |9            |\n",
    "|   MARC_F1-MARS3D-GIRONDE                |Works           |Works            |Works        |Works          |21.1            |9            |\n",
    "|   MARC_F1-MARS3D-LOIRE                  |Works           |Works            |Works        |Works          |20              |9            |\n",
    "|   MARC_F1-MARS3D-MANGAE2500-AGRIF       |Works           |Works            |Works        |Works          |563 (ms)        |2            |\n",
    "|   MARC_F1-MARS3D-MORBIHAN               |Works           |Works            |Works        |Works          |17              |6            |\n",
    "|   MARC_F1-MARS3D-PDC                    |Works           |Works            |Works        |Works          |117 (1.57 s)    |9            |\n",
    "|   MARC_F1-MARS3D-SEINE                  |Works           |Works            |Works        |Works          |29.8            |9            |\n",
    "|   MED-6MIN                              |Works           |Missing variable |             |               |                |12           |\n",
    "|   MENOR-2MIN                            |Works           |Missing variable |             |               |                |12           |\n",
    "|   MENOR-UG                              |Works           |Diff  dims size  |             |               |                |12           |\n",
    "|   NORGAS-2MIN                           |Works           |Missing variable |             |               |                |12           |\n",
    "|   NORGAS-UG                             |Works           |Missing variable |             |               |                |15           |\n",
    "|   NORGAS-UG_V3                          |Works           |Works            |Works        |               |20.5            |12           |\n",
    "|   POLYNESIE-3MIN                        |Works           |Missing variable |             |               |                |             |\n",
    "|   REUNION-180M                          |Works           |Works            |Works        |Works          |453 (ms)        |2            |\n",
    "|   REUNION-UG                            |Works           |Missing variable |             |               |                |12           |\n",
    "|   b1                                    |Works           |Works            |Works        |fails          |1.95            |5            |\n",
    "|   b1_v10                                |Works           |Missing variable |             |               |                |11           |\n",
    "|   b1_v10r2019                           |Works           |Works            |Works        |Works          |2.43            |11           |\n",
    "|   f1_e2500                              |Works           |Works            |Works        |Works          |127 (2m07)      |11           |\n",
    "|   f1_e4000                              |Works           |Works            |Works        |Works          |128 (2m08)      |17           |\n",
    "|   f2_1200                               |Works           |Works            |Works        |Works          |23.4            |10           |\n",
    "|   f2_1200_sn                            |Works           |Works            |Works        |Works          |2.84            |4            |\n",
    "|   f2_1200_v10                           |Works           |Works            |Works        |Works          |18.2            |8            |\n",
    "|   l2_v10                                |Works           |Works            |Works        |Works          |8.17            |9            |\n",
    "|                                         |                |                 |             |               |                |             |\n"
   ]
  },
  {
   "cell_type": "code",
   "execution_count": null,
   "id": "136251dc-ccd2-48d6-bf34-2f0c5c1a9fe2",
   "metadata": {
    "tags": []
   },
   "outputs": [],
   "source": [
    "region = \"REUNION-180M\""
   ]
  },
  {
   "cell_type": "code",
   "execution_count": null,
   "id": "7b8f7853-78d9-4c3f-81e9-00473b9e65a4",
   "metadata": {
    "tags": []
   },
   "outputs": [],
   "source": [
    "filename = allowed_years(data=region)\n",
    "cat.marc(region=region,filename=\"2021.json.zst\").to_dask()"
   ]
  },
  {
   "cell_type": "code",
   "execution_count": null,
   "id": "83148744-7e96-43e9-a97e-590325fcf0fe",
   "metadata": {},
   "outputs": [],
   "source": [
    "len(allowed_years(region))"
   ]
  },
  {
   "cell_type": "code",
   "execution_count": null,
   "id": "c4fd78ae-29f5-4ee3-ac28-ca2df1afa9b1",
   "metadata": {},
   "outputs": [],
   "source": [
    "%%time\n",
    "ds = year_concat(\n",
    "    cat, \"marc\", region\n",
    ")"
   ]
  },
  {
   "cell_type": "code",
   "execution_count": null,
   "id": "50fbc34c-78d2-4ac2-9acc-8b49c049f3c6",
   "metadata": {},
   "outputs": [],
   "source": [
    "%%time\n",
    "da = ds.cge"
   ]
  },
  {
   "cell_type": "code",
   "execution_count": null,
   "id": "7d4447e5-9571-4bea-9e3c-96b515c1a87a",
   "metadata": {},
   "outputs": [],
   "source": [
    "da.unify_chunks().hvplot.quadmesh(\n",
    "     x=\"longitude\", y=\"latitude\", rasterize=True, geo=True, cmap=\"BuPu\"\n",
    ") * gf.land.opts(scale=\"10m\") * gf.coastline.opts(scale=\"10m\")"
   ]
  },
  {
   "cell_type": "code",
   "execution_count": null,
   "id": "e0e27986-1228-4673-97e5-beb71530a9eb",
   "metadata": {},
   "outputs": [],
   "source": []
  }
 ],
 "metadata": {
  "kernelspec": {
   "display_name": "auto-kerchunk",
   "language": "python",
   "name": "auto-kerchunk"
  },
  "language_info": {
   "codemirror_mode": {
    "name": "ipython",
    "version": 3
   },
   "file_extension": ".py",
   "mimetype": "text/x-python",
   "name": "python",
   "nbconvert_exporter": "python",
   "pygments_lexer": "ipython3",
   "version": "3.9.10"
  }
 },
 "nbformat": 4,
 "nbformat_minor": 5
}
