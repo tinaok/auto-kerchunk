{
 "cells": [
  {
   "cell_type": "markdown",
   "id": "6fe4df8a-8f7a-4dd4-9386-a5757362eaca",
   "metadata": {},
   "source": [
    "# This notebook is made to test the catalog with paramaters in order to have only one .yaml file to open multiple files "
   ]
  },
  {
   "cell_type": "code",
   "execution_count": null,
   "id": "39543b99-ac8b-42d8-bfa9-ae86c66e507c",
   "metadata": {},
   "outputs": [],
   "source": [
    "import intake\n",
    "import dask_hpcconfig\n",
    "from distributed import Client\n",
    "import xarray as xr\n",
    "import hvplot.xarray\n",
    "import geoviews.feature as gf\n",
    "\n",
    "cluster = dask_hpcconfig.cluster(\"datarmor-local\")\n",
    "cluster.scale(14)\n",
    "client = Client(cluster)\n",
    "client"
   ]
  },
  {
   "cell_type": "markdown",
   "id": "831fb214-dea0-495a-a636-dc598a1ae5e2",
   "metadata": {},
   "source": [
    "#### In order to visualize computations, you need to get to the dask extension and fill it this way :\n",
    "/user/{JUPYTHERHUB_USERNAME}/proxy/{PORT_NUMBER}/status"
   ]
  },
  {
   "cell_type": "markdown",
   "id": "cfc43084-4d25-4edc-b834-faf94925fa2c",
   "metadata": {},
   "source": [
    "### Concatenation time is the time needed to concatenate 2 years of data\n",
    "\n",
    "| paths | Compute | Plot | concat |shape|dims|chunks|concatenation time|\n",
    "| :---- |:-------:|:----:|:------:|:--:|:---:|:----:|:----------------:|\n",
    "|marc_f1-mars3d-adour|Yes|Yes|works|Equal|Equal|Equal|4.36 s|\n",
    "|marc_f1-mars3d-armor|Yes|Yes|works|Different|Different|Different|6.52 s|\n",
    "|marc_f1-mars3d-finis|Yes|Yes|works|Different|Different|Different|6.78 s|\n",
    "|marc_f1-mars3d-gironde|Yes|Yes|works|Different|Different|Different|7.8 s|\n",
    "|marc_f1-mars3d-loire|Yes|Yes| works|Different|Different|Different|7.59 s|\n",
    "|marc_f1-mars3d-mangae2500-agrif|Yes|Yes|works|Different|Equal|Different|736 ms|\n",
    "|marc_f1-mars3d-pdc|Yes|Yes|works|Different|Different|Different|5.25 s|\n",
    "|marc_f1-mars3d-seine|Yes|Yes|works|Different|Different|Different|7.21 s|"
   ]
  },
  {
   "cell_type": "code",
   "execution_count": null,
   "id": "e17bb1a0-b2dc-4c6f-a15b-43e11e9c25e4",
   "metadata": {},
   "outputs": [],
   "source": [
    "def get_param(catalog, param):\n",
    "    cat = intake.open_catalog(catalog + \".yaml\")\n",
    "    return cat.metadata[\"parameters\"][param][\"allowed\"]\n",
    "\n",
    "\n",
    "def allowed_param(catalog):\n",
    "    cat = intake.open_catalog(catalog + \".yaml\")\n",
    "    return cat.metadata[\"allowed_parameters\"]\n",
    "\n",
    "def year_concat(path, catalog, region):\n",
    "    \n",
    "    cat = intake.open_catalog(path + catalog + \".yaml\")\n",
    "\n",
    "    concat = [cat[catalog](region=region, year=i).to_dask() \n",
    "              for i in get_param(path + catalog, \"year\")]\n",
    "\n",
    "    return xr.concat(\n",
    "        concat, \n",
    "        dim=\"time\", \n",
    "        coords=\"minimal\", \n",
    "        data_vars=\"minimal\", \n",
    "        compat=\"override\"\n",
    "    )"
   ]
  },
  {
   "cell_type": "code",
   "execution_count": null,
   "id": "55f32180-f2a1-41c2-ba3a-62df70e32526",
   "metadata": {},
   "outputs": [],
   "source": [
    "regions = get_param(\n",
    "    \"/home/datawork-lops-iaocea/catalog/intake/marc_f1-mars3d\", \"region\"\n",
    ")\n",
    "regions"
   ]
  },
  {
   "cell_type": "code",
   "execution_count": null,
   "id": "f815adbc-024d-49d6-9cf6-922d29fe49b4",
   "metadata": {},
   "outputs": [],
   "source": [
    "%%time\n",
    "ds = year_concat(\n",
    "    \"/home/datawork-lops-iaocea/catalog/intake/\", \"marc_f1-mars3d\", regions[7]\n",
    ")\n",
    "ds"
   ]
  },
  {
   "cell_type": "code",
   "execution_count": null,
   "id": "9c3c6dac-1627-4c1f-a96e-8699aaab2659",
   "metadata": {},
   "outputs": [],
   "source": [
    "ds.unify_chunks().TEMP.isel(level=1).hvplot.quadmesh(\n",
    "    x=\"longitude\", y=\"latitude\", datashade=True, geo=True\n",
    ") * gf.land.opts(scale=\"10m\") * gf.coastline.opts(scale=\"10m\")"
   ]
  },
  {
   "cell_type": "code",
   "execution_count": null,
   "id": "1e205311-27cb-422a-a71d-24669a831a79",
   "metadata": {},
   "outputs": [],
   "source": []
  }
 ],
 "metadata": {
  "kernelspec": {
   "display_name": "auto-kerchunk",
   "language": "python",
   "name": "auto-kerchunk"
  },
  "language_info": {
   "codemirror_mode": {
    "name": "ipython",
    "version": 3
   },
   "file_extension": ".py",
   "mimetype": "text/x-python",
   "name": "python",
   "nbconvert_exporter": "python",
   "pygments_lexer": "ipython3",
   "version": "3.9.9"
  }
 },
 "nbformat": 4,
 "nbformat_minor": 5
}
