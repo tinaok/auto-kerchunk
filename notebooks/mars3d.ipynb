{
 "cells": [
  {
   "cell_type": "markdown",
   "id": "6fe4df8a-8f7a-4dd4-9386-a5757362eaca",
   "metadata": {},
   "source": [
    "# This notebook is made to test the catalog with paramaters in order to have only one .yaml file to open multiple files "
   ]
  },
  {
   "cell_type": "code",
   "execution_count": null,
   "id": "39543b99-ac8b-42d8-bfa9-ae86c66e507c",
   "metadata": {},
   "outputs": [],
   "source": [
    "import intake\n",
    "import dask_hpcconfig\n",
    "from distributed import Client\n",
    "import xarray as xr\n",
    "import hvplot.xarray\n",
    "import geoviews.feature as gf\n",
    "\n",
    "cluster = dask_hpcconfig.cluster(\"datarmor-local\")\n",
    "cluster.scale(14)\n",
    "client = Client(cluster)\n",
    "client"
   ]
  },
  {
   "cell_type": "markdown",
   "id": "831fb214-dea0-495a-a636-dc598a1ae5e2",
   "metadata": {},
   "source": [
    "#### In order to visualize computations, you need to get to the dask extension and fill it this way :\n",
    "/user/{JUPYTHERHUB_USERNAME}/proxy/{PORT_NUMBER}/status"
   ]
  },
  {
   "cell_type": "markdown",
   "id": "cfc43084-4d25-4edc-b834-faf94925fa2c",
   "metadata": {},
   "source": [
    "| paths | Compute | Plot | concat |shape|dims|chunks|\n",
    "| :---- |:-------:|:----:|:------:|:--:|:---:|:----:|\n",
    "|marc_f1-mars3d-adour|Yes|Yes|works|Equal|Equal|Equal|\n",
    "|marc_f1-mars3d-armor|Yes|Yes|works|Different|Different|Different|\n",
    "|marc_f1-mars3d-finis|Yes|Yes|works|Different|Different|Different|\n",
    "|marc_f1-mars3d-gironde|Yes|Yes|works|Different|Different|Different|\n",
    "|marc_f1-mars3d-loire|Yes|Yes| works|Different|Different|Different|\n",
    "|marc_f1-mars3d-mangae2500-agrif|Yes|Yes|works|Different|Equal|Different|\n",
    "|marc_f1-mars3d-pdc|Yes|Yes|works|Different|Different|Different|\n",
    "|marc_f1-mars3d-seine|Yes|Yes|works|Different|Different|Different|"
   ]
  },
  {
   "cell_type": "code",
   "execution_count": null,
   "id": "c42a5fbb-e636-4b71-9bee-ef86aabd0e1b",
   "metadata": {},
   "outputs": [],
   "source": [
    "def get_param(catalog, param):\n",
    "    cat = intake.open_catalog(catalog + \".yaml\")\n",
    "    return cat.metadata[\"parameters\"][param][\"allowed\"]\n",
    "\n",
    "\n",
    "def allowed_param(catalog):\n",
    "    cat = intake.open_catalog(catalog + \".yaml\")\n",
    "    return cat.metadata[\"allowed_parameters\"]"
   ]
  },
  {
   "cell_type": "code",
   "execution_count": null,
   "id": "db212aeb-362e-4482-8e08-d0333ac1b611",
   "metadata": {},
   "outputs": [],
   "source": [
    "def year_concat(path, catalog, region):\n",
    "    cat = intake.open_catalog(path + catalog + \".yaml\")\n",
    "    concat = []\n",
    "    for i in get_param(path + catalog, \"year\"):\n",
    "\n",
    "        concat.append(cat[catalog](region=region, year=i).to_dask())\n",
    "\n",
    "    return xr.concat(\n",
    "        concat, dim=\"time\", coords=\"minimal\", data_vars=\"minimal\", compat=\"override\"\n",
    "    )"
   ]
  },
  {
   "cell_type": "code",
   "execution_count": null,
   "id": "0c4c86d4-dd78-48cb-b15e-afa9c3e31fe9",
   "metadata": {},
   "outputs": [],
   "source": [
    "%%time\n",
    "regions = get_param(\n",
    "    \"/home/datawork-lops-iaocea/catalog/intake/marc_f1-mars3d\", \"region\"\n",
    ")\n",
    "regions"
   ]
  },
  {
   "cell_type": "code",
   "execution_count": null,
   "id": "af76f92f-ea92-42ca-acdb-03e630f22a01",
   "metadata": {},
   "outputs": [],
   "source": [
    "%%time\n",
    "ds = year_concat(\n",
    "    \"/home/datawork-lops-iaocea/catalog/intake/\", \"marc_f1-mars3d\", regions[7]\n",
    ")\n",
    "ds"
   ]
  },
  {
   "cell_type": "code",
   "execution_count": null,
   "id": "9c3c6dac-1627-4c1f-a96e-8699aaab2659",
   "metadata": {},
   "outputs": [],
   "source": [
    "ds.unify_chunks().TEMP.isel(level=1).hvplot.quadmesh(\n",
    "    x=\"longitude\", y=\"latitude\", datashade=True, geo=True\n",
    ") * gf.land.opts(scale=\"10m\") * gf.coastline.opts(scale=\"10m\")"
   ]
  },
  {
   "cell_type": "code",
   "execution_count": null,
   "id": "0e1baeeb-723b-468e-bd05-6605b6308f8b",
   "metadata": {},
   "outputs": [],
   "source": []
  }
 ],
 "metadata": {
  "kernelspec": {
   "display_name": "auto-kerchunk",
   "language": "python",
   "name": "auto-kerchunk"
  },
  "language_info": {
   "codemirror_mode": {
    "name": "ipython",
    "version": 3
   },
   "file_extension": ".py",
   "mimetype": "text/x-python",
   "name": "python",
   "nbconvert_exporter": "python",
   "pygments_lexer": "ipython3",
   "version": "3.9.9"
  }
 },
 "nbformat": 4,
 "nbformat_minor": 5
}
