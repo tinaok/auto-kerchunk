{
 "cells": [
  {
   "cell_type": "code",
   "execution_count": null,
   "id": "22a1a22e-0ba2-45b6-a8af-d55cd24b084f",
   "metadata": {},
   "outputs": [],
   "source": [
    "import intake"
   ]
  },
  {
   "cell_type": "code",
   "execution_count": null,
   "id": "f3520e35-133b-47da-982e-ba96afa831fd",
   "metadata": {},
   "outputs": [],
   "source": [
    "cat = intake.open_catalog(\"/home/datawork-lops-iaocea/catalog/intake/testseine.yaml\")\n",
    "\n",
    "catalog =\"marc_f1-mars3d_grid\"\n",
    "cat[catalog].to_dask()"
   ]
  }
 ],
 "metadata": {
  "kernelspec": {
   "display_name": "auto-kerchunk",
   "language": "python",
   "name": "auto-kerchunk"
  },
  "language_info": {
   "codemirror_mode": {
    "name": "ipython",
    "version": 3
   },
   "file_extension": ".py",
   "mimetype": "text/x-python",
   "name": "python",
   "nbconvert_exporter": "python",
   "pygments_lexer": "ipython3",
   "version": "3.9.9"
  }
 },
 "nbformat": 4,
 "nbformat_minor": 5
}
